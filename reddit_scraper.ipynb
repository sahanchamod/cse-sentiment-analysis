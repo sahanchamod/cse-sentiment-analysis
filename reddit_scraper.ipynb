{
 "cells": [
  {
   "cell_type": "markdown",
   "metadata": {},
   "source": [
    "# Reddit Sentiment Analysis for Sri Lankan Stocks\n",
    "This notebook reads Reddit posts from relevant financial subreddits, filters by stock name, and performs sentiment analysis."
   ]
  },
  {
   "cell_type": "code",
   "execution_count": 13,
   "metadata": {},
   "outputs": [],
   "source": [
    "import praw  # Reddit API Wrapper\n",
    "import pandas as pd  # For storing post data in DataFrame\n",
    "from sklearn.metrics import accuracy_score, confusion_matrix, ConfusionMatrixDisplay\n",
    "import matplotlib.pyplot as plt\n",
    "import config"
   ]
  },
  {
   "cell_type": "code",
   "execution_count": 11,
   "metadata": {},
   "outputs": [
    {
     "name": "stdout",
     "output_type": "stream",
     "text": [
      "Top 5 posts in r/Python:\n",
      "Title: Ask about local clubs/events here mega thread! Post'em here and only here., Score: 28\n",
      "Title: \"We're picky\"...🙄, Score: 127\n",
      "Title: Straight women in couples - is anybody out there? , Score: 26\n",
      "Title: 1 year in the lifestyle, a recap. , Score: 23\n",
      "Title: Our local swinger resort is going “open to the public”/no nudity…at least we got to enjoy it once. , Score: 5\n"
     ]
    }
   ],
   "source": [
    "import praw\n",
    "\n",
    "# Reddit API credentials\n",
    "reddit = praw.Reddit(\n",
    "    client_id = config.CLIENT_ID,      # Replace with your client ID\n",
    "    client_secret = config.CLIENT_SECRET,  # Replace with your client secret\n",
    "    user_agent = config.USER_AGENT,    # Example: \"my_reddit_app:v1.0.0 (by u/username)\"\n",
    ")\n",
    "\n",
    "# Fetch the top 5 posts from the 'Python' subreddit\n",
    "subreddit = reddit.subreddit('Python')\n",
    "print('Top 5 posts in r/Python:')\n",
    "for post in subreddit.hot(limit=5):\n",
    "    print(f'Title: {post.title}, Score: {post.score}')"
   ]
  },
  {
   "cell_type": "code",
   "execution_count": 14,
   "metadata": {},
   "outputs": [
    {
     "name": "stdout",
     "output_type": "stream",
     "text": [
      "Fetching posts from r/SriLanka...\n",
      "Fetching posts from r/investing...\n",
      "Fetching posts from r/stocks...\n",
      "Fetching posts from r/Finance...\n",
      "Total posts fetched: 54\n",
      "Posts saved to reddit_posts_sri_lanka_cse.csv\n"
     ]
    }
   ],
   "source": [
    "# Subreddits to search in\n",
    "subreddits_to_search = ['SriLanka', 'investing', 'stocks', 'Finance']\n",
    "keywords = [\"Sri Lanka\", \"Colombo Stock Exchange\", \"CSE\", \"stock market\"]\n",
    "\n",
    "# Store the results in a DataFrame\n",
    "posts_data = []\n",
    "\n",
    "for subreddit_name in subreddits_to_search:\n",
    "    subreddit = reddit.subreddit(subreddit_name)\n",
    "    print(f\"Fetching posts from r/{subreddit_name}...\")\n",
    "\n",
    "    for post in subreddit.hot(limit=100):  # Change limit based on requirement\n",
    "        post_title = post.title.lower()\n",
    "        post_body = post.selftext.lower() if post.selftext else \"\"\n",
    "\n",
    "        # Check if any keyword matches the post title or body\n",
    "        if any(keyword.lower() in post_title or keyword.lower() in post_body for keyword in keywords):\n",
    "            posts_data.append({\n",
    "                \"Subreddit\": subreddit_name,\n",
    "                \"Title\": post.title,\n",
    "                \"Body\": post.selftext,\n",
    "                \"Score\": post.score,\n",
    "                \"Comments\": post.num_comments,\n",
    "                \"URL\": post.url\n",
    "            })\n",
    "\n",
    "# Convert to a DataFrame and save\n",
    "df = pd.DataFrame(posts_data)\n",
    "print(f\"Total posts fetched: {len(df)}\")\n",
    "\n",
    "# Save to CSV\n",
    "df.to_csv('reddit_posts_sri_lanka_cse.csv', index=False)\n",
    "print(\"Posts saved to reddit_posts_sri_lanka_cse.csv\")"
   ]
  }
 ],
 "metadata": {
  "kernelspec": {
   "display_name": "cse-sentiment-env",
   "language": "python",
   "name": "python3"
  },
  "language_info": {
   "codemirror_mode": {
    "name": "ipython",
    "version": 3
   },
   "file_extension": ".py",
   "mimetype": "text/x-python",
   "name": "python",
   "nbconvert_exporter": "python",
   "pygments_lexer": "ipython3",
   "version": "3.10.16"
  }
 },
 "nbformat": 4,
 "nbformat_minor": 2
}
