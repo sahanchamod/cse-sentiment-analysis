{
 "cells": [
  {
   "cell_type": "markdown",
   "metadata": {},
   "source": [
    "# Reddit Sentiment Analysis for Sri Lankan Stocks\n",
    "This notebook reads Reddit posts from relevant financial subreddits, filters by stock name, and performs sentiment analysis."
   ]
  },
  {
   "cell_type": "code",
   "execution_count": 15,
   "metadata": {},
   "outputs": [],
   "source": [
    "import pandas as pd  # For storing post data in DataFrame\n",
    "from sklearn.metrics import accuracy_score, confusion_matrix, ConfusionMatrixDisplay\n",
    "import matplotlib.pyplot as plt\n",
    "import config"
   ]
  },
  {
   "cell_type": "code",
   "execution_count": null,
   "metadata": {},
   "outputs": [
    {
     "name": "stdout",
     "output_type": "stream",
     "text": [
      "Top 5 posts in r/Python:\n",
      "Title: Sunday Daily Thread: What's everyone working on this week? \n",
      " Score: 2\n",
      "Title: Saturday Daily Thread: Resource Request and Sharing! Daily Thread \n",
      " Score: 4\n",
      "Title: PyGAD 3.4.0 Released: Python library for optimization using the genetic algorithm. \n",
      " Score: 94\n",
      "Title: How are European Python/AI devs landing US remote jobs? Just curious \n",
      " Score: 36\n",
      "Title: AWS S3 data ingestion and augmentation patterns using DuckDB and Python \n",
      " Score: 8\n"
     ]
    }
   ],
   "source": [
    "import praw\n",
    "\n",
    "# Reddit API credentials\n",
    "reddit = praw.Reddit(\n",
    "    client_id = config.CLIENT_ID,      # Replace with your client ID\n",
    "    client_secret = config.CLIENT_SECRET,  # Replace with your client secret\n",
    "    user_agent = config.USER_AGENT,    # Example: \"my_reddit_app:v1.0.0 (by u/username)\"\n",
    ")\n",
    "\n",
    "# Fetch the top 5 posts from the 'Python' subreddit\n",
    "subreddit = reddit.subreddit('Python')\n",
    "print('Top 5 posts in r/Python:\\n')\n",
    "for post in subreddit.hot(limit=5):\n",
    "    print(f'Title: {post.title}\\nPost body: {post.selftext}\\nPost url: {post.url}\\nScore: {post.score}\\n')"
   ]
  },
  {
   "cell_type": "code",
   "execution_count": 21,
   "metadata": {},
   "outputs": [
    {
     "name": "stdout",
     "output_type": "stream",
     "text": [
      "Top 5 posts in r/Python:\n",
      "\n",
      "Title: Sunday Daily Thread: What's everyone working on this week?\n",
      "Post body: # Weekly Thread: What's Everyone Working On This Week? 🛠️\n",
      "\n",
      "Hello /r/Python! It's time to share what you've been working on! Whether it's a work-in-progress, a completed masterpiece, or just a rough idea, let us know what you're up to!\n",
      "\n",
      "## How it Works:\n",
      "\n",
      "1. **Show & Tell**: Share your current projects, completed works, or future ideas.\n",
      "2. **Discuss**: Get feedback, find collaborators, or just chat about your project.\n",
      "3. **Inspire**: Your project might inspire someone else, just as you might get inspired here.\n",
      "\n",
      "## Guidelines:\n",
      "\n",
      "* Feel free to include as many details as you'd like. Code snippets, screenshots, and links are all welcome.\n",
      "* Whether it's your job, your hobby, or your passion project, all Python-related work is welcome here.\n",
      "\n",
      "## Example Shares:\n",
      "\n",
      "1. **Machine Learning Model**: Working on a ML model to predict stock prices. Just cracked a 90% accuracy rate!\n",
      "2. **Web Scraping**: Built a script to scrape and analyze news articles. It's helped me understand media bias better.\n",
      "3. **Automation**: Automated my home lighting with Python and Raspberry Pi. My life has never been easier!\n",
      "\n",
      "Let's build and grow together! Share your journey and learn from others. Happy coding! 🌟\n",
      "Post url: https://www.reddit.com/r/Python/comments/1hz9oaq/sunday_daily_thread_whats_everyone_working_on/\n",
      "Score: 2\n",
      "\n",
      "Title: Saturday Daily Thread: Resource Request and Sharing! Daily Thread\n",
      "Post body: # Weekly Thread: Resource Request and Sharing 📚\n",
      "\n",
      "Stumbled upon a useful Python resource? Or are you looking for a guide on a specific topic? Welcome to the Resource Request and Sharing thread!\n",
      "\n",
      "## How it Works:\n",
      "\n",
      "1. **Request**: Can't find a resource on a particular topic? Ask here!\n",
      "2. **Share**: Found something useful? Share it with the community.\n",
      "3. **Review**: Give or get opinions on Python resources you've used.\n",
      "\n",
      "## Guidelines:\n",
      "\n",
      "* Please include the type of resource (e.g., book, video, article) and the topic.\n",
      "* Always be respectful when reviewing someone else's shared resource.\n",
      "\n",
      "## Example Shares:\n",
      "\n",
      "1. **Book**: [\"Fluent Python\"](https://www.amazon.com/Fluent-Python-Concise-Effective-Programming/dp/1491946008) \\- Great for understanding Pythonic idioms.\n",
      "2. **Video**: [Python Data Structures](https://www.youtube.com/watch?v=pkYVOmU3MgA) \\- Excellent overview of Python's built-in data structures.\n",
      "3. **Article**: [Understanding Python Decorators](https://realpython.com/primer-on-python-decorators/) \\- A deep dive into decorators.\n",
      "\n",
      "## Example Requests:\n",
      "\n",
      "1. **Looking for**: Video tutorials on web scraping with Python.\n",
      "2. **Need**: Book recommendations for Python machine learning.\n",
      "\n",
      "Share the knowledge, enrich the community. Happy learning! 🌟\n",
      "Post url: https://www.reddit.com/r/Python/comments/1hyivpf/saturday_daily_thread_resource_request_and/\n",
      "Score: 2\n",
      "\n",
      "Title: PyGAD 3.4.0 Released: Python library for optimization using the genetic algorithm.\n",
      "Post body: PyGAD is a Python library for solving general-purpose optimization problems using the genetic algorithm.\n",
      "\n",
      "GitHub repository: [https://github.com/ahmedfgad/GeneticAlgorithmPython](https://github.com/ahmedfgad/GeneticAlgorithmPython)\n",
      "\n",
      "Documentation: [https://pygad.readthedocs.io](https://pygad.readthedocs.io/)\n",
      "\n",
      "Quick release notes:\n",
      "\n",
      "1. The `delay_after_gen` parameter is removed from the [`pygad.GA`](http://pygad.GA) class constructor. \n",
      "2. The `plot_pareto_front_curve()` method added to the `pygad.visualize.plot.Plot` class to visualize the Pareto front for multi-objective problems. \n",
      "3. Created a new method called `unique_float_gene_from_range()` inside the `pygad.helper.unique.Unique` class to find a unique floating-point number from a range.\n",
      "4. The `Matplotlib` library is only imported when a method inside the `pygad/visualize/plot.py` script is used. \n",
      "5. While making prediction using the `pygad.torchga.predict()` function, no gradients are calculated.\n",
      "6. The `gene_type` parameter of the `pygad.helper.unique.Unique.unique_int_gene_from_range()` method accepts the type of the current gene only instead of the full gene\\_type list.\n",
      "7. More bug fixes.\n",
      "Post url: https://www.reddit.com/r/Python/comments/1hyxjqi/pygad_340_released_python_library_for/\n",
      "Score: 96\n",
      "\n",
      "Title: How are European Python/AI devs landing US remote jobs? Just curious\n",
      "Post body: Been wondering how fellow Python developers from Europe (I'm from Czech Republic) manage to land remote jobs with US companies. Not looking myself, just genuinely curious about the process and platforms people use.\n",
      "\n",
      "For those who've done it - what job sites worked for you? How do you handle the time difference? (I'm UTC+1)\n",
      "\n",
      "Especially interested to hear from those working with AI/LLMs, since that field seems to be booming in the US right now.\n",
      "Post url: https://www.reddit.com/r/Python/comments/1hz1u57/how_are_european_pythonai_devs_landing_us_remote/\n",
      "Score: 32\n",
      "\n",
      "Title: AWS S3 data ingestion and augmentation patterns using DuckDB and Python\n",
      "Post body: [http://bicortex.com/aws-s3-data-ingestion-and-augmentation-patterns-using-duckdb-and-python/](http://bicortex.com/aws-s3-data-ingestion-and-augmentation-patterns-using-duckdb-and-python/)\n",
      "Post url: https://www.reddit.com/r/Python/comments/1hz9krl/aws_s3_data_ingestion_and_augmentation_patterns/\n",
      "Score: 7\n",
      "\n"
     ]
    }
   ],
   "source": [
    "print('Top 5 posts in r/Python:\\n')\n",
    "for post in subreddit.hot(limit=5):\n",
    "    print(f'Title: {post.title}\\nPost body: {post.selftext}\\nPost url: {post.url}\\nScore: {post.score}\\n')"
   ]
  },
  {
   "cell_type": "code",
   "execution_count": 14,
   "metadata": {},
   "outputs": [
    {
     "name": "stdout",
     "output_type": "stream",
     "text": [
      "Fetching posts from r/SriLanka...\n",
      "Fetching posts from r/investing...\n",
      "Fetching posts from r/stocks...\n",
      "Fetching posts from r/Finance...\n",
      "Total posts fetched: 54\n",
      "Posts saved to reddit_posts_sri_lanka_cse.csv\n"
     ]
    }
   ],
   "source": [
    "# Subreddits to search in\n",
    "subreddits_to_search = ['SriLanka', 'investing', 'stocks', 'Finance']\n",
    "keywords = [\"Sri Lanka\", \"Colombo Stock Exchange\", \"CSE\", \"stock market\"]\n",
    "\n",
    "# Store the results in a DataFrame\n",
    "posts_data = []\n",
    "\n",
    "for subreddit_name in subreddits_to_search:\n",
    "    subreddit = reddit.subreddit(subreddit_name)\n",
    "    print(f\"Fetching posts from r/{subreddit_name}...\")\n",
    "\n",
    "    for post in subreddit.hot(limit=100):  # Change limit based on requirement\n",
    "        post_title = post.title.lower()\n",
    "        post_body = post.selftext.lower() if post.selftext else \"\"\n",
    "\n",
    "        # Check if any keyword matches the post title or body\n",
    "        if any(keyword.lower() in post_title or keyword.lower() in post_body for keyword in keywords):\n",
    "            posts_data.append({\n",
    "                \"Subreddit\": subreddit_name,\n",
    "                \"Title\": post.title,\n",
    "                \"Body\": post.selftext,\n",
    "                \"Score\": post.score,\n",
    "                \"Comments\": post.num_comments,\n",
    "                \"URL\": post.url\n",
    "            })\n",
    "\n",
    "# Convert to a DataFrame and save\n",
    "df = pd.DataFrame(posts_data)\n",
    "print(f\"Total posts fetched: {len(df)}\")\n",
    "\n",
    "# Save to CSV\n",
    "df.to_csv('reddit_posts_sri_lanka_cse.csv', index=False)\n",
    "print(\"Posts saved to reddit_posts_sri_lanka_cse.csv\")"
   ]
  }
 ],
 "metadata": {
  "kernelspec": {
   "display_name": "cse-sentiment-env",
   "language": "python",
   "name": "python3"
  },
  "language_info": {
   "codemirror_mode": {
    "name": "ipython",
    "version": 3
   },
   "file_extension": ".py",
   "mimetype": "text/x-python",
   "name": "python",
   "nbconvert_exporter": "python",
   "pygments_lexer": "ipython3",
   "version": "3.10.16"
  }
 },
 "nbformat": 4,
 "nbformat_minor": 2
}
